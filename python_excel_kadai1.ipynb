{
  "nbformat": 4,
  "nbformat_minor": 0,
  "metadata": {
    "colab": {
      "provenance": [],
      "authorship_tag": "ABX9TyM3Z0TJbgm7sXC4/v76G9Qe",
      "include_colab_link": true
    },
    "kernelspec": {
      "name": "python3",
      "display_name": "Python 3"
    },
    "language_info": {
      "name": "python"
    }
  },
  "cells": [
    {
      "cell_type": "markdown",
      "metadata": {
        "id": "view-in-github",
        "colab_type": "text"
      },
      "source": [
        "<a href=\"https://colab.research.google.com/github/ryoma0415/python-excel-kadai/blob/main/python_excel_kadai1.ipynb\" target=\"_parent\"><img src=\"https://colab.research.google.com/assets/colab-badge.svg\" alt=\"Open In Colab\"/></a>"
      ]
    },
    {
      "cell_type": "code",
      "execution_count": 1,
      "metadata": {
        "id": "D4AFaFtUAPkl"
      },
      "outputs": [],
      "source": [
        "#import and setting\n",
        "import openpyxl\n",
        "from datetime import datetime\n",
        "\n",
        "wb = openpyxl.Workbook()\n",
        "ws = wb.active\n",
        "\n",
        "today = datetime.today()\n",
        "data = [\n",
        "    ['Product Name', 'Quantity', 'Unit Price', 'Total'],\n",
        "    ['Product A', 2, 10000, 20000],\n",
        "    ['Product B', 1, 15000, 15000]\n",
        "]\n",
        "\n",
        "# write in sheet\n",
        "ws['B2'].value = 'Bill'\n",
        "ws['B4'].value = '株式会社ABC'\n",
        "ws['B5'].value = '〒101-0022 東京都千代田区神田練塀町300'\n",
        "ws['B6'].value = 'TEL:03-1234-5678 FAX:03-1234-5678'\n",
        "ws['B7'].value = '担当者名:鈴木一郎 様'\n",
        "ws['F4'].value = 'No.'\n",
        "ws['G4'].value = '0001'\n",
        "ws['F5'].value = 'Date'\n",
        "ws['G5'].value = today.strftime('%Y/%m/%d')\n",
        "ws['E13'].value = 35000\n",
        "ws['B15'].value = 'Total'\n",
        "ws['E15'].value = 35000\n",
        "ws['B16'].value = 'Tax'\n",
        "ws['E16'].value = 3500\n",
        "ws['B17'].value = 'Tax add'\n",
        "ws['E17'].value = 38500\n",
        "\n",
        "\n",
        "list_rows = [\n",
        "    ['B10', 'C10', 'D10', 'E10'],\n",
        "    ['B11', 'C11', 'D11', 'E11'],\n",
        "    ['B12', 'C12', 'D12', 'E12']\n",
        "]\n",
        "\n",
        "for i in range(3):\n",
        "  # ws[list_rows[i]].value = data[0][i]\n",
        "  for j in range(4):\n",
        "    ws[list_rows[i][j]].value = data[i][j]\n",
        "\n",
        "wb.save(f\"Bill_{today.strftime('%Y%m%d')}.xlsx\")\n",
        "\n",
        "\n",
        "\n",
        "\n",
        "#start_row = 10\n",
        "#start_col = 2\n",
        "\n",
        "#for i, row in enumerate(data):\n",
        "#    for j, value in enumerate(row):\n",
        "#        ws.cell(row=start_row + i, column=start_col + j).value = value\n",
        "\n",
        "\n",
        "\n"
      ]
    },
    {
      "cell_type": "code",
      "source": [
        "list_rows = [\"B10\",\"B11\",\"B12\"]"
      ],
      "metadata": {
        "id": "DzYIUur0M0g4"
      },
      "execution_count": null,
      "outputs": []
    },
    {
      "cell_type": "code",
      "source": [],
      "metadata": {
        "id": "QAN0AujjM1wv"
      },
      "execution_count": null,
      "outputs": []
    }
  ]
}