{
  "nbformat": 4,
  "nbformat_minor": 0,
  "metadata": {
    "colab": {
      "provenance": [],
      "authorship_tag": "ABX9TyN0WpJLsAKVJlNggjlEyp4e",
      "include_colab_link": true
    },
    "kernelspec": {
      "name": "python3",
      "display_name": "Python 3"
    },
    "language_info": {
      "name": "python"
    }
  },
  "cells": [
    {
      "cell_type": "markdown",
      "metadata": {
        "id": "view-in-github",
        "colab_type": "text"
      },
      "source": [
        "<a href=\"https://colab.research.google.com/github/ryoma0415/python-excel-kadai/blob/main/python_excel_kadai3.ipynb\" target=\"_parent\"><img src=\"https://colab.research.google.com/assets/colab-badge.svg\" alt=\"Open In Colab\"/></a>"
      ]
    },
    {
      "cell_type": "code",
      "execution_count": 64,
      "metadata": {
        "id": "hhfGRQaz2co_"
      },
      "outputs": [],
      "source": [
        "import pandas as pd\n",
        "import openpyxl\n",
        "from openpyxl.styles import PatternFill\n",
        "\n",
        "df1 = pd.read_excel('2022_年間売上表.xlsx')\n",
        "df2 = pd.read_excel('2023_年間売上表.xlsx')\n",
        "\n",
        "df = pd.concat([df1, df2], axis=0)\n",
        "\n",
        "# group = df.groupby(['商品', '売上年']).agg({'金額（千円）': 'sum'})\n",
        "group = df.groupby(['商品', '売上年'])['金額（千円）'].sum()\n",
        "\n",
        "writer = pd.ExcelWriter('Earnings_Table.xlsx')\n",
        "\n",
        "group.to_excel(writer, sheet_name='earnings_table', index=True)\n",
        "\n",
        "writer.close()\n",
        "\n",
        "wb = openpyxl.load_workbook('Earnings_Table.xlsx')\n",
        "\n",
        "ws = wb.active\n",
        "\n",
        "# ws[['A1', 'B1', 'C1']].fill = PatternFill(patternType='solid', fgColor='F2F2F2')\n",
        "color = PatternFill(patternType='solid', fgColor='F2F2F2')\n",
        "for cell in ws['A1:C1']:\n",
        "  for c in cell:\n",
        "    c.fill = color\n",
        "\n",
        "wb.save('Earnings_Table.xlsx')"
      ]
    }
  ]
}